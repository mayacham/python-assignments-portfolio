{
 "cells": [
  {
   "cell_type": "code",
   "execution_count": 46,
   "id": "0cb4f970-2f2d-4213-a46e-39ce3fd39ee4",
   "metadata": {},
   "outputs": [
    {
     "name": "stdout",
     "output_type": "stream",
     "text": [
      "None\n"
     ]
    }
   ],
   "source": [
    "import numpy as np\n",
    "def f(x):\n",
    "    return (np.log(np.cos(x)))\n",
    "\n",
    "a=5\n",
    "b=7\n",
    "\n",
    "\n",
    "def bisection_method(f, a, b):\n",
    "    while abs(b-a)>10**(-10):\n",
    "        m=(a+b)/2 \n",
    "        if f(a)*f(m)<=0:\n",
    "            b=m\n",
    "        elif f(b)*f(m)<=0:\n",
    "            a=m\n",
    "        else:\n",
    "            break\n",
    "    if abs(b-a)<10**(-10):\n",
    "        return a\n",
    "    elif abs(f(b))<10**(-10):\n",
    "        return (a+b)/2\n",
    "    \n",
    "    return None\n",
    "\n",
    "result = bisection_method(f, a, b)\n",
    "    \n",
    "print (result)"
   ]
  }
 ],
 "metadata": {
  "kernelspec": {
   "display_name": "Python 3 (ipykernel)",
   "language": "python",
   "name": "python3"
  },
  "language_info": {
   "codemirror_mode": {
    "name": "ipython",
    "version": 3
   },
   "file_extension": ".py",
   "mimetype": "text/x-python",
   "name": "python",
   "nbconvert_exporter": "python",
   "pygments_lexer": "ipython3",
   "version": "3.11.4"
  }
 },
 "nbformat": 4,
 "nbformat_minor": 5
}
