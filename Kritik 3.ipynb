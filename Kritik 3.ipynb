{
 "cells": [
  {
   "cell_type": "code",
   "execution_count": 22,
   "id": "e83d2947",
   "metadata": {},
   "outputs": [
    {
     "name": "stdout",
     "output_type": "stream",
     "text": [
      "-1e-05\n",
      "1e-05\n"
     ]
    }
   ],
   "source": [
    "import numpy as np\n",
    "def ahh(x):\n",
    "    return np.e**x\n",
    "c=0\n",
    "E=0.01\n",
    "\n",
    "n=100\n",
    "x1=c\n",
    "x2=c\n",
    "deltax=10**(-8)\n",
    "d=0.00001\n",
    "def ahhPrime(x):\n",
    "    return (ahh(x+deltax)-ahh(x-deltax))/(2*deltax)\n",
    "def L(x):\n",
    "    return ahh(c)+ahhPrime(c)*(x-c)\n",
    "\n",
    "found_x1=False\n",
    "found_x2=False\n",
    "\n",
    "for i in range(n):\n",
    "    x1-=d\n",
    "    if abs(ahh(x1)-L(x1)) <= E:\n",
    "        print(x1)\n",
    "        found_x1=True\n",
    "        break\n",
    "\n",
    "for i in range(n):\n",
    "    x2+=d\n",
    "    if abs(ahh(x2)-L(x2)) <= E:\n",
    "        print(x2)\n",
    "        found_x2=True\n",
    "        break\n",
    "    \n",
    "if not found_x1:\n",
    "    print(\"No such x1 can be found!\")\n",
    "if not found_x2:\n",
    "     print(\"No such x2 can be found\")"
   ]
  }
 ],
 "metadata": {
  "kernelspec": {
   "display_name": "Python 3 (ipykernel)",
   "language": "python",
   "name": "python3"
  },
  "language_info": {
   "codemirror_mode": {
    "name": "ipython",
    "version": 3
   },
   "file_extension": ".py",
   "mimetype": "text/x-python",
   "name": "python",
   "nbconvert_exporter": "python",
   "pygments_lexer": "ipython3",
   "version": "3.11.4"
  }
 },
 "nbformat": 4,
 "nbformat_minor": 5
}
