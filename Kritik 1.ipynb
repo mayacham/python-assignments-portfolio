{
 "cells": [
  {
   "cell_type": "code",
   "execution_count": null,
   "id": "e156cf29-c4cb-4727-979b-3b39975561b6",
   "metadata": {},
   "outputs": [],
   "source": [
    "given_number = float(input(\"Give me x\"))\n",
    "\n",
    "def help(x):\n",
    "    a = 0\n",
    "    n = 0\n",
    "    error_bound = (x**(2*n+1)/(2*n+1))\n",
    "\n",
    "    if 0<=x<=1:\n",
    "        while error_bound>0.0001:\n",
    "            n+=1\n",
    "            error_bound = ((x**(2*n+1))/(2*n+1))\n",
    "        for (i) in range (0,n-1):\n",
    "            a+=((-1)**i*x**(2*i+1))\n",
    "            \n",
    "        other_n = (2*n+1)\n",
    "        return a, other_n, error_bound \n",
    "    \n",
    "    else:\n",
    "        print(\"Error!\")\n",
    "\n",
    "print(help(given_number))"
   ]
  }
 ],
 "metadata": {
  "kernelspec": {
   "display_name": "Python 3 (ipykernel)",
   "language": "python",
   "name": "python3"
  },
  "language_info": {
   "codemirror_mode": {
    "name": "ipython",
    "version": 3
   },
   "file_extension": ".py",
   "mimetype": "text/x-python",
   "name": "python",
   "nbconvert_exporter": "python",
   "pygments_lexer": "ipython3",
   "version": "3.11.4"
  }
 },
 "nbformat": 4,
 "nbformat_minor": 5
}
