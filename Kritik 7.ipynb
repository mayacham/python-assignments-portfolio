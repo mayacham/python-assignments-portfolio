{
 "cells": [
  {
   "cell_type": "code",
   "execution_count": 24,
   "id": "6b375b27",
   "metadata": {},
   "outputs": [
    {
     "name": "stdout",
     "output_type": "stream",
     "text": [
      "t-value: 2.290087686017293\n",
      "Reject null hypothesis: µ ≠ 75. The teaching technique had a signifigant effect.\n"
     ]
    }
   ],
   "source": [
    "### importing the data given \n",
    "data = [92.64, 79.00, 84.79, 97.41, 93.68, 65.23, 84.50, 73.49, 73.97, 79.11]\n",
    "population_mean = 75  # Given national average\n",
    "\n",
    "## step (i) \n",
    "# compute the mean and standard deviations for the data\n",
    "def compute_mean_std(data):\n",
    "    n = len(data)\n",
    "    mean = sum(data) / n\n",
    "    variance = sum((x - mean) ** 2 for x in data) / (n - 1)\n",
    "    std_dev = variance ** 0.5\n",
    "    return mean, std_dev\n",
    "\n",
    "## step (ii)\n",
    "# computes t0 using the mean and standard deviation from step (i)\n",
    "def compute_t0(sample_mean, sample_std_dev, sample_size, population_mean):\n",
    "    t0 = (sample_mean - population_mean) / (sample_std_dev / (sample_size ** 0.5))\n",
    "    return t0\n",
    "\n",
    "## step (iii)\n",
    "# finding t* using integration\n",
    "def find_t_star(prob, nu, x_start=0, x_end=20, num_points=10000): \n",
    "    # Define the x values\n",
    "    x = np.linspace(x_start, x_end, num_points)\n",
    "    # Apply the density function to the x values\n",
    "    y = t_distribution_pdf(x, nu)\n",
    "    # This next line is the integration \n",
    "    cdf = np.cumsum(y) * (x[1] - x[0])\n",
    "    # Find the t-value where the cumulative probability reaches half of the required probability\n",
    "    target_half_prob = prob / 2\n",
    "    index = np.where(cdf >= target_half_prob)[0][0]\n",
    "    return x[index]\n",
    "\n",
    "## step (iv)\n",
    "# writing a function that takes in t0 and t* using absolute values\n",
    "def is_t0_in_interval(t0, t_star):\n",
    "    return abs(t0) <= t_star\n",
    "\n",
    "\n",
    "# Compute mean and standard deviation\n",
    "sample_mean, sample_std_dev = compute_mean_std(data)\n",
    "\n",
    "# Compute t0\n",
    "sample_size = len(data)\n",
    "t0 = compute_t0(sample_mean, sample_std_dev, sample_size, population_mean)\n",
    "\n",
    "# Find t∗\n",
    "t_star = find_t_star(0.95, sample_size - 1)\n",
    "\n",
    "# Check if t0 is in the interval [−t∗, t∗]\n",
    "result = is_t0_in_interval(t0, t_star)\n",
    "\n",
    "# Print the calculated t-value\n",
    "print(\"t-value:\", t0)\n",
    "\n",
    "# Print the conclusion\n",
    "if result:\n",
    "    print(\"Accept null hypothesis: µ = 75. The teaching technique has no signifigant effect.\")\n",
    "else:\n",
    "    print(\"Reject null hypothesis: µ ≠ 75. The teaching technique had a signifigant effect.\")\n"
   ]
  }
 ],
 "metadata": {
  "kernelspec": {
   "display_name": "Python 3 (ipykernel)",
   "language": "python",
   "name": "python3"
  },
  "language_info": {
   "codemirror_mode": {
    "name": "ipython",
    "version": 3
   },
   "file_extension": ".py",
   "mimetype": "text/x-python",
   "name": "python",
   "nbconvert_exporter": "python",
   "pygments_lexer": "ipython3",
   "version": "3.11.4"
  }
 },
 "nbformat": 4,
 "nbformat_minor": 5
}
