{
 "cells": [
  {
   "cell_type": "code",
   "execution_count": 1,
   "id": "6ecb4991",
   "metadata": {
    "scrolled": true
   },
   "outputs": [
    {
     "data": {
      "image/png": "[encoded data removed]",
      "text/plain": [
       "<Figure size 640x480 with 1 Axes>"
      ]
     },
     "metadata": {},
     "output_type": "display_data"
    },
    {
     "name": "stdout",
     "output_type": "stream",
     "text": [
      "Final result: x = -3.706, y = 305.635\n"
     ]
    }
   ],
   "source": [
    "import matplotlib.pyplot as plt\n",
    "import numpy as np\n",
    "\n",
    "def f(x):\n",
    "    return (-3*x**3 +10*x**2 -5*x-3)\n",
    "\n",
    "learning_rate = 0.000001\n",
    "initial_point = -5.0\n",
    "num_iterations = 5000\n",
    "\n",
    "def gradient_descent(f, learning_rate, initial_point):\n",
    "    \n",
    "    def deriv(f, base_point):\n",
    "        return (f(base_point + 1e-5) - f(base_point)) / 1e-5\n",
    "    \n",
    "    x_coords = [initial_point]\n",
    "    y_coords = [f(initial_point)]\n",
    "    \n",
    "    for _ in range(num_iterations):\n",
    "        gradient = deriv(f, x_coords[-1])\n",
    "        update = -learning_rate * gradient\n",
    "        x_coords.append(x_coords[-1] + update)\n",
    "        y_coords.append(f(x_coords[-1]))\n",
    "\n",
    "    plot_range = np.linspace(min(x_coords) - 0.5, max(x_coords) + 0.5, 10000)\n",
    "    function_range = [f(i) for i in plot_range]\n",
    "    \n",
    "    plt.plot(plot_range, function_range, label='f(x)')  # Plots the function f(x)\n",
    "    plt.plot(x_coords[-1], y_coords[-1], 'ro', label='Last Point')  # Plots the last point visited during gradient descent\n",
    "    plt.xlabel('x')\n",
    "    plt.ylabel('f(x)')\n",
    "    plt.title('Gradient Descent')\n",
    "    plt.legend()\n",
    "    plt.show()\n",
    "\n",
    "    result = (round(x_coords[-1], 3), round(y_coords[-1], 3))\n",
    "    return result\n",
    "\n",
    "# Example usage:\n",
    "result = gradient_descent(f, learning_rate, initial_point)\n",
    "print(f\"Final result: x = {result[0]}, y = {result[1]}\")"
   ]
  },
  {
   "cell_type": "code",
   "execution_count": 2,
   "id": "ffa536d9",
   "metadata": {},
   "outputs": [],
   "source": [
    "import matplotlib.pyplot as plt\n",
    "import numpy as np\n",
    "\n",
    "def f(x):\n",
    "    return (-3*x**3 + 10*x**2 - 5*x - 3)\n",
    "\n",
    "learning_rate = 0.1\n",
    "initial_point = 2.0\n",
    "num_iterations = 50\n",
    "\n",
    "def gradient_descent(f, learning_rate, initial_point):\n",
    "    \n",
    "    def deriv(f, base_point):\n",
    "        return (f(base_point + 1e-5) - f(base_point)) / 1e-5\n",
    "    \n",
    "    x_coords = [initial_point]\n",
    "    y_coords = [f(initial_point)]\n",
    "    \n",
    "    for _ in range(num_iterations):\n",
    "        gradient = deriv(f, x_coords[-1])\n",
    "        update = -learning_rate * gradient\n",
    "        x_coords.append(x_coords[-1] + update)\n",
    "        y_coords.append(f(x_coords[-1]))\n",
    "\n",
    "    plot_range = np.linspace(min(x_coords) - 0.5, max(x_coords) + 0.5, 10000)\n",
    "    function_range = [f(i) for i in plot_range]\n",
    "    \n",
    "    plt.plot(plot_range, function_range, label='f(x)')  # Plots the function f(x)\n",
    "    plt.plot(x_coords[-1], y_coords[-1], 'ro', label='Last Point')  # Plots the last point visited during gradient descent\n",
    "    plt.xlabel('x')\n",
    "    plt.ylabel('f(x)')\n",
    "    plt.title('Gradient Descent')\n",
    "    plt.legend()\n",
    "    plt.show()\n",
    "\n",
    "    result = (round(x_coords[-1], 3), round(y_coords[-1], 3))\n",
    "    return result\n",
    "\n",
    "\n",
    "\n",
    "(-3*x**3 + 10*x**2 - 5*x - 3)"
   ]
  },
  {
   "cell_type": "code",
   "execution_count": 16,
   "id": "6294e050",
   "metadata": {},
   "outputs": [
    {
     "name": "stdout",
     "output_type": "stream",
     "text": [
      "Final result: x = 0.0, y = 0.0\n"
     ]
    }
   ],
   "source": [
    "import matplotlib.pyplot as plt\n",
    "import numpy as np\n",
    "\n",
    "def f(x):\n",
    "    return abs(x)\n",
    "\n",
    "learning_rate = 0.1\n",
    "initial_point = 2.0\n",
    "num_iterations = 50\n",
    "\n",
    "def gradient_descent(f, learning_rate, initial_point):\n",
    "    \n",
    "    def deriv(f, base_point):\n",
    "        return (f(base_point + 1e-5) - f(base_point)) / 1e-5\n",
    "    \n",
    "    x_coords = [initial_point]\n",
    "    y_coords = [f(initial_point)]\n",
    "    \n",
    "    for _ in range(num_iterations):\n",
    "        gradient = deriv(f, x_coords[-1])\n",
    "        update = -learning_rate * gradient\n",
    "        x_coords.append(x_coords[-1] + update)\n",
    "        y_coords.append(f(x_coords[-1]))\n",
    "\n",
    "    result = (round(x_coords[-1], 3), round(y_coords[-1], 3))\n",
    "    return result\n",
    "\n",
    "result = gradient_descent(f, learning_rate, initial_point)\n",
    "print(f\"Final result: x = {result[0]}, y = {result[1]}\")"
   ]
  }
 ],
 "metadata": {
  "kernelspec": {
   "display_name": "Python 3 (ipykernel)",
   "language": "python",
   "name": "python3"
  },
  "language_info": {
   "codemirror_mode": {
    "name": "ipython",
    "version": 3
   },
   "file_extension": ".py",
   "mimetype": "text/x-python",
   "name": "python",
   "nbconvert_exporter": "python",
   "pygments_lexer": "ipython3",
   "version": "3.11.4"
  }
 },
 "nbformat": 4,
 "nbformat_minor": 5
}
